{
 "cells": [
  {
   "cell_type": "markdown",
   "metadata": {},
   "source": [
    "<h1>The Spatial Theory Model</h1>\n",
    "\n",
    "Utility"
   ]
  },
  {
   "cell_type": "markdown",
   "metadata": {},
   "source": [
    "\n",
    "\n",
    "<code>Python\n",
    "import matplotlib.pyplot as plt\n",
    "import numpy as np\n",
    "import pandas as pd\n",
    "from math import exp\n",
    "#Utility Curves\n",
    "# norm.util <- function(x){ return(15*exp(-0.25*(0-x)^2))}\n",
    "# quad.util <- function(x){ return(15+15*(-0.25*(0-x)^2))}\n",
    "# lin.util <- function(x){ return(5*-abs(x)+15)}\n",
    "# plot(c(-3,3), c(0,20), type=\"n\", bty=\"n\", xlab=\"Policy Location\", ylab=\"Utility\", cex.lab=1.2)\n",
    "x = np.linspace(-4,4,100)\n",
    "y = 1+1*(-0.1*(0-x)**2)\n",
    "z = 1*-abs(x/4)+1\n",
    "plt.plot(x,y,label='Quadratic')\n",
    "plt.plot(x,z,label='Linear')\n",
    "plt.ylim(0, 1.1)\n",
    "plt.xlim(-5,5)\n",
    "plt.xlabel('Policy Location')\n",
    "plt.ylabel('Utility]')\n",
    "plt.title(\"Fig 1. Utility in spatial voting models\")\n",
    "plt.legend(loc='upper right')\n",
    "plt.show()\n",
    "</code>\n",
    "\n",
    "\n",
    "\n"
   ]
  },
  {
   "cell_type": "code",
   "execution_count": null,
   "metadata": {},
   "outputs": [],
   "source": []
  }
 ],
 "metadata": {
  "kernelspec": {
   "display_name": "Python 3",
   "language": "python",
   "name": "python3"
  },
  "language_info": {
   "codemirror_mode": {
    "name": "ipython",
    "version": 3
   },
   "file_extension": ".py",
   "mimetype": "text/x-python",
   "name": "python",
   "nbconvert_exporter": "python",
   "pygments_lexer": "ipython3",
   "version": "3.7.6"
  }
 },
 "nbformat": 4,
 "nbformat_minor": 4
}
