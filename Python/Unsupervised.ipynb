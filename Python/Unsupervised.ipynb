{
 "cells": [
  {
   "cell_type": "markdown",
   "metadata": {},
   "source": [
    "## **Unsupervised Learning: Cep Survey, April 2015.**\n",
    "\n",
    "Here we will take a look at the survey and apply some unsupervised learning techniques.\n",
    "\n",
    "* K-Means Clustering\n",
    "    * Scaling\n",
    "    * Normalization\n",
    "* Hierachical clustering\n",
    "* Principal Component Analysis\n",
    "* Non Negative Matrix Factorization\n",
    "\n",
    "\n",
    "> <i>Reference: https://www.cepchile.cl/cep/encuestas-cep/encuestas-2009-2018/estudio-nacional-de-opinion-publica-abril-2015</i>"
   ]
  },
  {
   "cell_type": "markdown",
   "metadata": {},
   "source": [
    "## Importing data\n",
    "\n",
    "* Clean up political self identification variable\n",
    "* Create a numpy array of themometer feeling scores"
   ]
  },
  {
   "cell_type": "code",
   "execution_count": 74,
   "metadata": {},
   "outputs": [
    {
     "name": "stdout",
     "output_type": "stream",
     "text": [
      "FILTRO\n",
      "1    Independent\n",
      "2    Independent\n",
      "3    Independent\n",
      "4    Independent\n",
      "5           Left\n",
      "Name: POSICION_POLITICA, dtype: object\n",
      "(85, 31)\n",
      "(31, 85)\n",
      "<class 'list'>\n"
     ]
    }
   ],
   "source": [
    "import matplotlib.pyplot as plt\n",
    "import numpy as np\n",
    "import pandas as pd\n",
    "import seaborn as sns\n",
    "from sklearn.cluster import KMeans \n",
    "from sklearn.pipeline import make_pipeline\n",
    "from sklearn.preprocessing import StandardScaler\n",
    "\n",
    "#Import Data from april 2015 CEP Survey\n",
    "cep73 = pd.read_csv(\"https://raw.githubusercontent.com/rarmijok/Analytical-Politics/master/DATA/Encuesta%20CEP%2073%20Abril%202015.csv\", index_col='FILTRO')\n",
    "###PENDING: IMPORT FROM SPSS FILE\n",
    "\n",
    "cleanup_nums = {\"POSICION_POLITICA\":{1:\"Right\",2:\"Center\",3:\"Left\",4:\"Independent\",5:np.nan}}\n",
    "pos_order=[\"Left\",\"Center\",\"Right\",\"Independent\"]\n",
    "cep73.replace(cleanup_nums, inplace=True)\n",
    "#cep73[\"POSICION_POLITICA\"]= cep73[\"POSICION_POLITICA\"].astype('category')\n",
    "\n",
    "#Rename T Score Columns\n",
    "cep73=cep73.rename(columns={\"MB_P19_A\":\"A Allamand\",\"MB_P19_B\":\"I Allende\",\"MB_P19_C\":\"O Andrade\",\"MB_P19_D\":\"A Arenas\",\"MB_P19_E\":\"M Bachelet\",\"MB_P19_F\":\"M Enriquez-O\",\"MB_P19_G\":\"C Escalona\",\"MB_P19_H\":\"A Espina\",\"MB_P19_I\":\"N Eyzaguirre\",\"MB_P19_J\":\"G Girardi\",\"MB_P19_K\":\"R LagosE\",\"MB_P19_L\":\"R LagosW\",\"MB_P19_M\":\"E Matthei\",\"MB_P19_N\":\"C Mockenber\",\"MB_P19_O\":\"C Montes\",\"MB_P19_P\":\"MJ Ossandon\",\"MB_P19_Q\":\"R Penailillo\",  \"MB_P19_R\":\"L Perez\",\"MB_P19_S\":\"S Pinera\",\"MB_P19_T\":\"J Pizarro\",\"MB_P19_U\":\"J Quintana\",\"MB_P19_V\":\"X Rincon\",\"MB_P19_W\":\"G Tellier\",\"MB_P19_X\":\"C Toha\",\"MB_P19_Y\":\"C Vallejo\",\"MB_P19_Z\":\"A Velasco\",\"MB_P19_AA\":\"Von Baer\",\"MB_P19_BB\":\"I Walker\", \"MB_P19_CC\":\"P Walker\",\"MB_P19_DD\":\"Ma Nunez\",\"MB_P19_EE\":\"F Kast\"})\n",
    "cep73[cep73.iloc[:,33:64]>5]=np.nan \n",
    "#Thermometer Scores matrix / SUBSET T SCORES\n",
    "T = cep73.iloc[:,33:64]\n",
    "pos=cep73[\"POSICION_POLITICA\"]\n",
    "print(pos.head())\n",
    "Tcomplete = T.dropna()\n",
    "Tcompletedf = Tcomplete\n",
    "Tcomplete = Tcomplete.to_numpy()\n",
    "#T = T.to_numpy() #JOJO\n",
    "#print(Tcomplete)\n",
    "\n",
    "\n",
    "\n",
    "print(Tcomplete.shape)\n",
    "print(np.transpose(Tcomplete).shape)\n",
    "polit=list(Tcompletedf.columns) # MOVE TO TOP\n",
    "print(type(polit))"
   ]
  },
  {
   "cell_type": "markdown",
   "metadata": {},
   "source": [
    "## K-Means Clustering: Inertias\n",
    "\n",
    "* How many cluster?\n",
    "    * Elbow method\n"
   ]
  },
  {
   "cell_type": "code",
   "execution_count": 2,
   "metadata": {},
   "outputs": [
    {
     "data": {
      "image/png": "[encoded data removed]",
      "text/plain": [
       "<Figure size 432x288 with 1 Axes>"
      ]
     },
     "metadata": {
      "needs_background": "light"
     },
     "output_type": "display_data"
    }
   ],
   "source": [
    "ks = range(1, 31)\n",
    "inertias = []\n",
    "for k in ks:\n",
    "    # Create a KMeans instance with k clusters: model\n",
    "    model= KMeans(n_clusters=k)\n",
    "    \n",
    "    # Fit model to samples\n",
    "    model.fit(Tcomplete)\n",
    "    \n",
    "    # Append the inertia to the list of inertias\n",
    "    inertias.append(model.inertia_) \n",
    "    \n",
    "# Plot ks vs inertias\n",
    "plt.plot(ks, inertias, '-o')\n",
    "plt.xlabel('number of clusters, k')\n",
    "plt.ylabel('inertia')\n",
    "plt.xticks(ks)\n",
    "plt.show()\n",
    "\n",
    "\n"
   ]
  },
  {
   "cell_type": "markdown",
   "metadata": {},
   "source": [
    "## Kmeans \n",
    "* 3 clusters"
   ]
  },
  {
   "cell_type": "code",
   "execution_count": 3,
   "metadata": {},
   "outputs": [
    {
     "name": "stdout",
     "output_type": "stream",
     "text": [
      "1607.1095528455282\n"
     ]
    },
    {
     "data": {
      "image/png": "[encoded data removed]",
      "text/plain": [
       "<Figure size 432x288 with 1 Axes>"
      ]
     },
     "metadata": {
      "needs_background": "light"
     },
     "output_type": "display_data"
    }
   ],
   "source": [
    "# Create a KMeans instance with 3 clusters: model\n",
    "model = KMeans(n_clusters=3)\n",
    "model.fit(Tcomplete)\n",
    "print(model.inertia_)\n",
    "\n",
    "# Determine the cluster labels of new_points: labels\n",
    "labels = model.predict(Tcomplete)#OJO OJO OJO Tcomplete\n",
    "#print(labels)\n",
    "\n",
    "# Make a scatter plot using labels to define the colors\n",
    "plt.scatter(Tcomplete[:,0],y = Tcomplete[:,1],alpha=0.5,c=labels) #OJO OJO OJO Tcomplete\n",
    "\n",
    "# Assign the cluster centers: centroids\n",
    "centroids = model.cluster_centers_\n",
    "\n",
    "# Assign the columns of centroids: centroids_x, centroids_y\n",
    "centroids_x = centroids[:,0]\n",
    "centroids_y = centroids[:,1]\n",
    "\n",
    "# Make a scatter plot of centroids_x and centroids_y\n",
    "plt.scatter(centroids_x,centroids_y,marker='D',s=100.)\n",
    "plt.show()\n"
   ]
  },
  {
   "cell_type": "markdown",
   "metadata": {},
   "source": [
    "# Scaler\n",
    "* Data transformation\n"
   ]
  },
  {
   "cell_type": "code",
   "execution_count": 4,
   "metadata": {},
   "outputs": [
    {
     "data": {
      "image/png": "[encoded data removed]",
      "text/plain": [
       "<Figure size 432x288 with 1 Axes>"
      ]
     },
     "metadata": {
      "needs_background": "light"
     },
     "output_type": "display_data"
    }
   ],
   "source": [
    "# Create scaler: scaler\n",
    "scaler = StandardScaler()\n",
    "\n",
    "# Create KMeans instance: kmeans\n",
    "kmeans = KMeans(n_clusters=3)\n",
    "\n",
    "# Create pipeline: pipeline\n",
    "pipeline = make_pipeline(scaler,kmeans)\n",
    "\n",
    "# Fit the pipeline to samples\n",
    "pipeline.fit(Tcomplete)\n",
    "\n",
    "# Calculate the cluster labels: labels\n",
    "labels_scaler = pipeline.predict(Tcomplete)\n",
    "\n",
    "\n",
    "# Make a scatter plot using labels to define the colors\n",
    "plt.scatter(Tcomplete[:,0],y = Tcomplete[:,1],alpha=0.5,c=labels) #OJO OJO OJO Tcomplete\n",
    "# # Assign the cluster centers: centroids\n",
    "# centroids = pipeline.cluster_centers_\n",
    "# # Assign the columns of centroids: centroids_x, centroids_y\n",
    "# centroids_x = centroids[:,0]\n",
    "# centroids_y = centroids[:,1]\n",
    "# # Make a scatter plot of centroids_x and centroids_y\n",
    "# plt.scatter(centroids_x,centroids_y,marker='D',s=100.)\n",
    "plt.show()\n",
    "\n"
   ]
  },
  {
   "cell_type": "markdown",
   "metadata": {},
   "source": [
    "# Normalization"
   ]
  },
  {
   "cell_type": "code",
   "execution_count": 5,
   "metadata": {},
   "outputs": [
    {
     "data": {
      "image/png": "[encoded data removed]",
      "text/plain": [
       "<Figure size 432x288 with 1 Axes>"
      ]
     },
     "metadata": {
      "needs_background": "light"
     },
     "output_type": "display_data"
    }
   ],
   "source": [
    "# Import Normalizer\n",
    "from sklearn.preprocessing import Normalizer\n",
    "\n",
    "# Create a normalizer\n",
    "normalizer = Normalizer()\n",
    "\n",
    "# Create a KMeans model with 3 clusters\n",
    "kmeans = KMeans(n_clusters=3)\n",
    "\n",
    "# Make a pipeline chaining normalizer and kmeans: pipeline\n",
    "pipeline = make_pipeline(normalizer,kmeans)\n",
    "\n",
    "# Fit pipeline to the daily price movements\n",
    "\n",
    "pipeline.fit(Tcomplete)\n",
    "\n",
    "# Predict the cluster labels: labels\n",
    "labels = pipeline.predict(Tcomplete)\n",
    "\n",
    "# Make a scatter plot using labels to define the colors\n",
    "plt.scatter(Tcomplete[:,0],y = Tcomplete[:,1],alpha=0.5,c=labels) #OJO OJO OJO Tcomplete\n",
    "plt.show()\n"
   ]
  },
  {
   "cell_type": "markdown",
   "metadata": {},
   "source": [
    "# Hierarchical Clustering\n"
   ]
  },
  {
   "cell_type": "code",
   "execution_count": 44,
   "metadata": {},
   "outputs": [
    {
     "data": {
      "image/png": "[encoded data removed]",
      "text/plain": [
       "<Figure size 432x288 with 1 Axes>"
      ]
     },
     "metadata": {
      "needs_background": "light"
     },
     "output_type": "display_data"
    }
   ],
   "source": [
    "from scipy.cluster.hierarchy import linkage, dendrogram\n",
    "\n",
    "\n",
    "mergings = linkage(np.transpose(Tcomplete),method='complete')#,labels=[{1:\"tw\",2:\"gfd\"}])\n",
    "\n",
    "dendrogram(mergings,leaf_rotation=90,leaf_font_size=6)\n",
    "plt.show()\n"
   ]
  },
  {
   "cell_type": "markdown",
   "metadata": {},
   "source": [
    "# Intermediate clustering on height\n",
    "* Height on dendrogram = distance between merging clusters"
   ]
  },
  {
   "cell_type": "code",
   "execution_count": 7,
   "metadata": {},
   "outputs": [
    {
     "name": "stdout",
     "output_type": "stream",
     "text": [
      "[1 3 2 2 3 2 2 1 2 2 3 3 1 1 2 3 2 1 1 2 2 3 2 3 4 2 1 2 2 2 1]\n",
      "    Group     Politians\n",
      "0       1    A Allamand\n",
      "26      1      Von Baer\n",
      "18      1      S Pinera\n",
      "17      1       L Perez\n",
      "13      1   C Mockenber\n",
      "12      1     E Matthei\n",
      "7       1      A Espina\n",
      "30      1        F Kast\n",
      "8       2  N Eyzaguirre\n",
      "28      2      P Walker\n",
      "27      2      I Walker\n",
      "25      2     A Velasco\n",
      "22      2     G Tellier\n",
      "20      2    J Quintana\n",
      "6       2    C Escalona\n",
      "2       2     O Andrade\n",
      "3       2      A Arenas\n",
      "19      2     J Pizarro\n",
      "29      2      Ma Nunez\n",
      "14      2      C Montes\n",
      "5       2  M Enriquez-O\n",
      "9       2     G Girardi\n",
      "16      2  R Penailillo\n",
      "4       3    M Bachelet\n",
      "21      3      X Rincon\n",
      "23      3        C Toha\n",
      "11      3      R LagosW\n",
      "1       3     I Allende\n",
      "10      3      R LagosE\n",
      "15      3   MJ Ossandon\n",
      "24      4     C Vallejo\n"
     ]
    }
   ],
   "source": [
    "from scipy.cluster.hierarchy import fcluster\n",
    "labels = fcluster(mergings, 12, criterion='distance')\n",
    "print(labels)\n",
    "pairs = pd.DataFrame({'Group': labels,'Politians': polit})\n",
    "print(pairs.sort_values('Group'))"
   ]
  },
  {
   "cell_type": "markdown",
   "metadata": {},
   "source": [
    "## t-SNE for 2-dimensional maps\n"
   ]
  },
  {
   "cell_type": "code",
   "execution_count": 46,
   "metadata": {},
   "outputs": [
    {
     "data": {
      "image/png": "[encoded data removed]",
      "text/plain": [
       "<Figure size 432x288 with 1 Axes>"
      ]
     },
     "metadata": {
      "needs_background": "light"
     },
     "output_type": "display_data"
    }
   ],
   "source": [
    "from sklearn.manifold import TSNE\n",
    "\n",
    "model = TSNE(learning_rate=50)\n",
    "transformed = model.fit_transform(Tcomplete)\n",
    "\n",
    "\n",
    "plt.scatter(transformed[:,0], transformed[:,1],alpha=0.5)#C=labels\n",
    "plt.show()"
   ]
  },
  {
   "cell_type": "markdown",
   "metadata": {},
   "source": [
    "# Principal Component Analysis\n",
    "* How many Dimensions\n",
    "* Dimension Reduction\n"
   ]
  },
  {
   "cell_type": "code",
   "execution_count": 9,
   "metadata": {},
   "outputs": [
    {
     "name": "stdout",
     "output_type": "stream",
     "text": [
      "(85, 2)\n"
     ]
    },
    {
     "data": {
      "image/png": "[encoded data removed]",
      "text/plain": [
       "<Figure size 432x288 with 1 Axes>"
      ]
     },
     "metadata": {
      "needs_background": "light"
     },
     "output_type": "display_data"
    },
    {
     "data": {
      "image/png": "[encoded data removed]",
      "text/plain": [
       "<Figure size 432x288 with 1 Axes>"
      ]
     },
     "metadata": {
      "needs_background": "light"
     },
     "output_type": "display_data"
    },
    {
     "name": "stdout",
     "output_type": "stream",
     "text": [
      "-6.590431325670387e-15\n"
     ]
    }
   ],
   "source": [
    "from scipy.stats import pearsonr\n",
    "from sklearn.decomposition import PCA\n",
    "\n",
    "\n",
    "model = PCA()\n",
    "model.fit(np.transpose(Tcomplete))\n",
    "print(transformed.shape)\n",
    "\n",
    "features=range(model.n_components_)\n",
    "plt.bar(features,model.explained_variance_)\n",
    "plt.xlabel('PCA feature')\n",
    "plt.ylabel('variance')\n",
    "plt.show()\n",
    "\n",
    "\n",
    "#\n",
    "model = PCA(n_components=2)\n",
    "model.fit(np.transpose(Tcomplete))\n",
    "transformed = model.transform(np.transpose(Tcomplete))\n",
    "\n",
    "plt.scatter(transformed[:,0],transformed[:,1])\n",
    "plt.show()\n",
    "\n",
    "# Calculate the Pearson correlation of xs and ys\n",
    "correlation, pvalue = pearsonr(transformed[:,0],transformed[:,1])\n",
    "print(correlation)\n"
   ]
  },
  {
   "cell_type": "markdown",
   "metadata": {},
   "source": [
    "# Non-Negative Matrix Factorization"
   ]
  },
  {
   "cell_type": "code",
   "execution_count": 85,
   "metadata": {},
   "outputs": [
    {
     "name": "stdout",
     "output_type": "stream",
     "text": [
      "(85, 31)\n",
      "(85, 2)\n"
     ]
    },
    {
     "data": {
      "image/png": "[encoded data removed]",
      "text/plain": [
       "<Figure size 432x288 with 2 Axes>"
      ]
     },
     "metadata": {
      "needs_background": "light"
     },
     "output_type": "display_data"
    },
    {
     "name": "stdout",
     "output_type": "stream",
     "text": [
      "(2, 31)\n"
     ]
    },
    {
     "data": {
      "image/png": "[encoded data removed]",
      "text/plain": [
       "<Figure size 432x288 with 2 Axes>"
      ]
     },
     "metadata": {
      "needs_background": "light"
     },
     "output_type": "display_data"
    },
    {
     "name": "stdout",
     "output_type": "stream",
     "text": [
      "C Vallejo     2.591596\n",
      "I Allende     2.523379\n",
      "R LagosW      2.431582\n",
      "M Bachelet    2.394800\n",
      "C Toha        2.231725\n",
      "Name: 0, dtype: float64\n",
      "E Matthei    0.411415\n",
      "S Pinera     0.645625\n",
      "Von Baer     0.749288\n",
      "A Espina     0.831987\n",
      "L Perez      0.968287\n",
      "Name: 0, dtype: float64\n",
      "(1434, 31)\n",
      "23    1.000000\n",
      "80    0.999977\n",
      "55    0.999724\n",
      "21    0.999252\n",
      "82    0.998968\n",
      "dtype: float64\n"
     ]
    }
   ],
   "source": [
    "from sklearn.decomposition import NMF\n",
    "\n",
    "model = NMF(n_components=2,max_iter=5000)\n",
    "model.fit(Tcomplete)\n",
    "nmf_features = model.transform(Tcomplete)\n",
    "\n",
    "print(Tcomplete.shape)\n",
    "print(nmf_features.shape)\n",
    "# df = pd.DataFrame(nmf_features,index=titles)\n",
    "# print(df.loc[''])\n",
    "#plt.scatter(nmf_features[0],nmf_features[1])\n",
    "#plt.show()\n",
    "ax = sns.heatmap(nmf_features)\n",
    "plt.show()\n",
    "\n",
    "components_df = pd.DataFrame(model.components_,columns=polit)\n",
    "print(components_df.shape)\n",
    "#plt.scatter(components_df[0],components_df[1])\n",
    "#plt.show()\n",
    "ax = sns.heatmap(components_df)\n",
    "plt.show()\n",
    "\n",
    "component=components_df.iloc[0]\n",
    "print(component.nlargest())\n",
    "print(component.nsmallest())\n",
    "\n",
    "\n",
    "from sklearn.preprocessing import normalize\n",
    "norm_features = normalize(nmf_features)\n",
    "\n",
    "##COSINE SIMILARITY\n",
    "#respondent = norm_features[23,:]\n",
    "#similarities = norm_features.dot(respondent)\n",
    "#print(similarities)\n",
    "print(T.shape)\n",
    "similarities = pd.DataFrame(norm_features,index=Tcompletedf.index) \n",
    "respondent = df.loc[23]\n",
    "similarities = df.dot(respondent)\n",
    "print(similarities.nlargest())\n",
    "\n",
    "\n",
    "\n"
   ]
  },
  {
   "cell_type": "code",
   "execution_count": null,
   "metadata": {},
   "outputs": [],
   "source": []
  },
  {
   "cell_type": "code",
   "execution_count": 90,
   "metadata": {},
   "outputs": [
    {
     "name": "stdout",
     "output_type": "stream",
     "text": [
      "23    1.000000\n",
      "80    0.999977\n",
      "55    0.999724\n",
      "21    0.999252\n",
      "82    0.998968\n",
      "dtype: float64\n"
     ]
    }
   ],
   "source": [
    "from sklearn.preprocessing import Normalizer, MaxAbsScaler\n",
    "from sklearn.pipeline import make_pipeline\n",
    "\n",
    "# Create a MaxAbsScaler: scaler\n",
    "scaler = MaxAbsScaler()\n",
    "# Create an NMF model: nmf\n",
    "nmf = NMF(n_components=2,max_iter=5000)\n",
    "\n",
    "# Create a Normalizer: normalizer\n",
    "normalizer = Normalizer()\n",
    "\n",
    "#Create a pipeline: pipeline\n",
    "pipeline = make_pipeline(scaler, nmf,normalizer)\n",
    "norm_features = pipeline.fit_transform(Tcomplete)\n",
    "similarities = pd.DataFrame(norm_features,index=Tcompletedf.index) \n",
    "\n",
    "respondent = df.loc[23]\n",
    "similarities = df.dot(respondent)\n",
    "print(similarities.nlargest())\n",
    "\n",
    "\n"
   ]
  },
  {
   "cell_type": "code",
   "execution_count": null,
   "metadata": {},
   "outputs": [],
   "source": []
  }
 ],
 "metadata": {
  "kernelspec": {
   "display_name": "Python 3",
   "language": "python",
   "name": "python3"
  },
  "language_info": {
   "codemirror_mode": {
    "name": "ipython",
    "version": 3
   },
   "file_extension": ".py",
   "mimetype": "text/x-python",
   "name": "python",
   "nbconvert_exporter": "python",
   "pygments_lexer": "ipython3",
   "version": "3.8.3"
  }
 },
 "nbformat": 4,
 "nbformat_minor": 4
}
