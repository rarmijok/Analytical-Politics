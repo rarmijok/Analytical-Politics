{
 "cells": [
  {
   "cell_type": "code",
   "execution_count": 57,
   "metadata": {},
   "outputs": [
    {
     "name": "stdout",
     "output_type": "stream",
     "text": [
      "FILTRO\n",
      "1    Independent\n",
      "2    Independent\n",
      "3    Independent\n",
      "4    Independent\n",
      "5           Left\n",
      "Name: POSICION_POLITICA, dtype: object\n",
      "[[3. 4. 2. ... 2. 2. 3.]\n",
      " [4. 4. 4. ... 4. 4. 4.]\n",
      " [2. 3. 3. ... 3. 3. 3.]\n",
      " ...\n",
      " [4. 3. 2. ... 4. 2. 3.]\n",
      " [4. 4. 5. ... 4. 5. 4.]\n",
      " [1. 1. 1. ... 1. 1. 1.]]\n"
     ]
    }
   ],
   "source": [
    "import matplotlib.pyplot as plt\n",
    "import numpy as np\n",
    "import pandas as pd\n",
    "import seaborn as sns\n",
    "from sklearn.cluster import KMeans \n",
    "from sklearn.pipeline import make_pipeline\n",
    "from sklearn.preprocessing import StandardScaler\n",
    "\n",
    "#Import Data from april 2015 CEP Survey\n",
    "cep73 = pd.read_csv(\"https://raw.githubusercontent.com/rarmijok/Analytical-Politics/master/DATA/Encuesta%20CEP%2073%20Abril%202015.csv\", index_col='FILTRO')\n",
    "###PENDING: IMPORT FROM SPSS FILE\n",
    "\n",
    "cleanup_nums = {\"POSICION_POLITICA\":{1:\"Right\",2:\"Center\",3:\"Left\",4:\"Independent\",5:np.nan}}\n",
    "pos_order=[\"Left\",\"Center\",\"Right\",\"Independent\"]\n",
    "cep73.replace(cleanup_nums, inplace=True)\n",
    "#cep73[\"POSICION_POLITICA\"]= cep73[\"POSICION_POLITICA\"].astype('category')\n",
    "\n",
    "#Rename T Score Columns\n",
    "cep73=cep73.rename(columns={\"MB_P19_A\":\"A Allamand\",\"MB_P19_B\":\"I Allende\",\"MB_P19_C\":\"O Andrade\",\"MB_P19_D\":\"A Arenas\",\"MB_P19_E\":\"M Bachelet\",\"MB_P19_F\":\"M Enriquez-O\",\"MB_P19_G\":\"C Escalona\",\"MB_P19_H\":\"A Espina\",\"MB_P19_I\":\"N Eyzaguirre\",\"MB_P19_J\":\"G Girardi\",\"MB_P19_K\":\"R LagosE\",\"MB_P19_L\":\"R LagosW\",\"MB_P19_M\":\"E Matthei\",\"MB_P19_N\":\"C Mockenber\",\"MB_P19_O\":\"C Montes\",\"MB_P19_P\":\"MJ Ossandon\",\"MB_P19_Q\":\"R Penailillo\",  \"MB_P19_R\":\"L Perez\",\"MB_P19_S\":\"S Pinera\",\"MB_P19_T\":\"J Pizarro\",\"MB_P19_U\":\"J Quintana\",\"MB_P19_V\":\"X Rincon\",\"MB_P19_W\":\"G Tellier\",\"MB_P19_X\":\"C Toha\",\"MB_P19_Y\":\"C Vallejo\",\"MB_P19_Z\":\"A Velasco\",\"MB_P19_AA\":\"Von Baer\",\"MB_P19_BB\":\"I Walker\", \"MB_P19_CC\":\"P Walker\",\"MB_P19_DD\":\"Ma Nunez\",\"MB_P19_EE\":\"F Kast\"})\n",
    "cep73[cep73.iloc[:,33:64]>5]=np.nan \n",
    "#Thermometer Scores matrix / SUBSET T SCORES\n",
    "T = cep73.iloc[:,33:64]\n",
    "pos=cep73[\"POSICION_POLITICA\"]\n",
    "print(pos.head())\n",
    "Tcomplete = T.dropna()\n",
    "Tcomplete = Tcomplete.to_numpy()\n",
    "T = T.to_numpy() #JOJO\n",
    "print(Tcomplete)"
   ]
  },
  {
   "cell_type": "code",
   "execution_count": 56,
   "metadata": {},
   "outputs": [
    {
     "data": {
      "image/png": "[encoded data removed]",
      "text/plain": [
       "<Figure size 432x288 with 1 Axes>"
      ]
     },
     "metadata": {
      "needs_background": "light"
     },
     "output_type": "display_data"
    }
   ],
   "source": [
    "ks = range(1, 31)\n",
    "inertias = []\n",
    "for k in ks:\n",
    "    # Create a KMeans instance with k clusters: model\n",
    "    model= KMeans(n_clusters=k)\n",
    "    \n",
    "    # Fit model to samples\n",
    "    model.fit(Tcomplete)\n",
    "    \n",
    "    # Append the inertia to the list of inertias\n",
    "    inertias.append(model.inertia_) \n",
    "    \n",
    "# Plot ks vs inertias\n",
    "plt.plot(ks, inertias, '-o')\n",
    "plt.xlabel('number of clusters, k')\n",
    "plt.ylabel('inertia')\n",
    "plt.xticks(ks)\n",
    "plt.show()\n",
    "\n",
    "\n"
   ]
  },
  {
   "cell_type": "code",
   "execution_count": null,
   "metadata": {},
   "outputs": [],
   "source": [
    "# Create a KMeans instance with 3 clusters: model\n",
    "model = KMeans(n_clusters=3)\n",
    "model.fit(Tcomplete)\n",
    "print(model.inertia_)\n",
    "\n",
    "# Determine the cluster labels of new_points: labels\n",
    "labels = model.predict(Tcomplete)#OJO OJO OJO Tcomplete\n",
    "print(labels)\n",
    "\n"
   ]
  },
  {
   "cell_type": "code",
   "execution_count": 49,
   "metadata": {},
   "outputs": [
    {
     "data": {
      "image/png": "[encoded data removed]",
      "text/plain": [
       "<Figure size 432x288 with 1 Axes>"
      ]
     },
     "metadata": {
      "needs_background": "light"
     },
     "output_type": "display_data"
    }
   ],
   "source": [
    "# Make a scatter plot using labels to define the colors\n",
    "plt.scatter(Tcomplete[:,0],y = Tcomplete[:,1],alpha=0.5,c=labels) #OJO OJO OJO Tcomplete\n",
    "\n",
    "# Assign the cluster centers: centroids\n",
    "centroids = model.cluster_centers_\n",
    "\n",
    "# Assign the columns of centroids: centroids_x, centroids_y\n",
    "centroids_x = centroids[:,0]\n",
    "centroids_y = centroids[:,1]\n",
    "\n",
    "# Make a scatter plot of centroids_x and centroids_y\n",
    "plt.scatter(centroids_x,centroids_y,marker='D',s=100.)\n",
    "plt.show()\n"
   ]
  },
  {
   "cell_type": "code",
   "execution_count": null,
   "metadata": {},
   "outputs": [],
   "source": [
    "# Create a KMeans model with 3 clusters: model\n",
    "model = KMeans(n_clusters=3)\n",
    "# Use fit_predict to fit model and obtain cluster labels: labels\n",
    "labels = model.fit_predict(samples)\n",
    "# Create a DataFrame with labels and varieties as columns: df\n",
    "df = pd.DataFrame({'labels': labels, 'varieties': varieties})\n",
    "# Create crosstab: ct\n",
    "ct = pd.crosstab(df['labels'],df['varieties'])\n",
    "# Display ct\n",
    "print(ct)\n"
   ]
  },
  {
   "cell_type": "code",
   "execution_count": 59,
   "metadata": {},
   "outputs": [
    {
     "ename": "NameError",
     "evalue": "name 'samples' is not defined",
     "output_type": "error",
     "traceback": [
      "\u001b[0;31m---------------------------------------------------------------------------\u001b[0m",
      "\u001b[0;31mNameError\u001b[0m                                 Traceback (most recent call last)",
      "\u001b[0;32m<ipython-input-59-dd1921fa4100>\u001b[0m in \u001b[0;36m<module>\u001b[0;34m\u001b[0m\n\u001b[1;32m      8\u001b[0m \u001b[0;32mimport\u001b[0m \u001b[0mpandas\u001b[0m \u001b[0;32mas\u001b[0m \u001b[0mpd\u001b[0m\u001b[0;34m\u001b[0m\u001b[0;34m\u001b[0m\u001b[0m\n\u001b[1;32m      9\u001b[0m \u001b[0;31m# Fit the pipeline to samples\u001b[0m\u001b[0;34m\u001b[0m\u001b[0;34m\u001b[0m\u001b[0;34m\u001b[0m\u001b[0m\n\u001b[0;32m---> 10\u001b[0;31m \u001b[0mpipeline\u001b[0m\u001b[0;34m.\u001b[0m\u001b[0mfit\u001b[0m\u001b[0;34m(\u001b[0m\u001b[0msamples\u001b[0m\u001b[0;34m)\u001b[0m\u001b[0;34m\u001b[0m\u001b[0;34m\u001b[0m\u001b[0m\n\u001b[0m\u001b[1;32m     11\u001b[0m \u001b[0;31m# Calculate the cluster labels: labels\u001b[0m\u001b[0;34m\u001b[0m\u001b[0;34m\u001b[0m\u001b[0;34m\u001b[0m\u001b[0m\n\u001b[1;32m     12\u001b[0m \u001b[0mlabels\u001b[0m \u001b[0;34m=\u001b[0m \u001b[0mpipeline\u001b[0m\u001b[0;34m.\u001b[0m\u001b[0mpredict\u001b[0m\u001b[0;34m(\u001b[0m\u001b[0msamples\u001b[0m\u001b[0;34m)\u001b[0m\u001b[0;34m\u001b[0m\u001b[0;34m\u001b[0m\u001b[0m\n",
      "\u001b[0;31mNameError\u001b[0m: name 'samples' is not defined"
     ]
    }
   ],
   "source": [
    "\n",
    "# Create scaler: scaler\n",
    "scaler = StandardScaler()\n",
    "# Create KMeans instance: kmeans\n",
    "kmeans = KMeans(n_clusters=4)\n",
    "# Create pipeline: pipeline\n",
    "pipeline = make_pipeline(scaler,kmeans)\n",
    "# Import pandas\n",
    "import pandas as pd\n",
    "# Fit the pipeline to samples\n",
    "pipeline.fit(samples)\n",
    "# Calculate the cluster labels: labels\n",
    "labels = pipeline.predict(samples)\n",
    "# Create a DataFrame with labels and species as columns: df\n",
    "df = pd.DataFrame({'labels': labels, 'species': species})\n",
    "# Create crosstab: ct\n",
    "ct = pd.crosstab(df['labels'] , df['species'])\n",
    "# Display ct\n",
    "print(ct)\n",
    "\n"
   ]
  },
  {
   "cell_type": "code",
   "execution_count": null,
   "metadata": {},
   "outputs": [],
   "source": [
    "\n",
    "\n",
    "# Import Normalizer\n",
    "from sklearn.preprocessing import Normalizer\n",
    "# Create a normalizer: normalizer\n",
    "normalizer = Normalizer()\n",
    "# Create a KMeans model with 10 clusters: kmeans\n",
    "kmeans = KMeans(n_clusters=10)\n",
    "# Make a pipeline chaining normalizer and kmeans: pipeline\n",
    "pipeline = make_pipeline(normalizer,kmeans)\n",
    "# Fit pipeline to the daily price movements\n",
    "pipeline.fit(movements)\n",
    "# Predict the cluster labels: labels\n",
    "labels = pipeline.predict(movements)\n",
    "# Create a DataFrame aligning labels and companies: df\n",
    "df = pd.DataFrame({'labels': labels, 'companies': companies})\n",
    "# Display df sorted by cluster label\n",
    "print(df.sort_values('labels'))\n"
   ]
  }
 ],
 "metadata": {
  "kernelspec": {
   "display_name": "Python 3",
   "language": "python",
   "name": "python3"
  },
  "language_info": {
   "codemirror_mode": {
    "name": "ipython",
    "version": 3
   },
   "file_extension": ".py",
   "mimetype": "text/x-python",
   "name": "python",
   "nbconvert_exporter": "python",
   "pygments_lexer": "ipython3",
   "version": "3.8.3"
  }
 },
 "nbformat": 4,
 "nbformat_minor": 4
}
